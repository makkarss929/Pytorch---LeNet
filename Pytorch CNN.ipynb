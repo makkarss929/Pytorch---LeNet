{
 "cells": [
  {
   "cell_type": "code",
   "execution_count": 1,
   "metadata": {},
   "outputs": [],
   "source": [
    "import torch\n",
    "import matplotlib.pyplot as plt\n",
    "import numpy as np"
   ]
  },
  {
   "cell_type": "markdown",
   "metadata": {},
   "source": [
    "## Data Loading"
   ]
  },
  {
   "cell_type": "code",
   "execution_count": 2,
   "metadata": {},
   "outputs": [
    {
     "name": "stdout",
     "output_type": "stream",
     "text": [
      "Files already downloaded and verified\n"
     ]
    }
   ],
   "source": [
    "import torchvision\n",
    "import torchvision.transforms as transforms\n",
    "trainset = torchvision.datasets.CIFAR10(root = './data',train = True,download=True,transform = transforms.ToTensor())"
   ]
  },
  {
   "cell_type": "code",
   "execution_count": 3,
   "metadata": {},
   "outputs": [],
   "source": [
    "classes = ('plane','car','bird','cat','deer','dog','frog','horse','ship','truck')"
   ]
  },
  {
   "cell_type": "code",
   "execution_count": 4,
   "metadata": {},
   "outputs": [],
   "source": [
    "trainloader = torch.utils.data.DataLoader(trainset,batch_size = 4,shuffle=True)"
   ]
  },
  {
   "cell_type": "code",
   "execution_count": 5,
   "metadata": {},
   "outputs": [
    {
     "name": "stdout",
     "output_type": "stream",
     "text": [
      "torch.Size([4, 3, 32, 32])\n",
      "torch.Size([3, 32, 32])\n",
      "4\n"
     ]
    }
   ],
   "source": [
    "dataiter = iter(trainloader)\n",
    "images,labels = dataiter.next()\n",
    "\n",
    "print(images.shape)\n",
    "\n",
    "print(images[0].shape)\n",
    "print(labels[0].item())"
   ]
  },
  {
   "cell_type": "markdown",
   "metadata": {},
   "source": [
    "### Visualise data"
   ]
  },
  {
   "cell_type": "code",
   "execution_count": 6,
   "metadata": {},
   "outputs": [
    {
     "name": "stdout",
     "output_type": "stream",
     "text": [
      "<class 'torch.Tensor'>\n"
     ]
    }
   ],
   "source": [
    "img = images[0]\n",
    "print(type(img))"
   ]
  },
  {
   "cell_type": "code",
   "execution_count": 7,
   "metadata": {},
   "outputs": [
    {
     "name": "stdout",
     "output_type": "stream",
     "text": [
      "(3, 32, 32)\n"
     ]
    }
   ],
   "source": [
    "npimg = img.numpy()\n",
    "print(npimg.shape)"
   ]
  },
  {
   "cell_type": "code",
   "execution_count": 8,
   "metadata": {},
   "outputs": [
    {
     "name": "stdout",
     "output_type": "stream",
     "text": [
      "(32, 32, 3)\n"
     ]
    }
   ],
   "source": [
    "npimg = np.transpose(npimg,(1,2,0))\n",
    "print(npimg.shape)"
   ]
  },
  {
   "cell_type": "code",
   "execution_count": 9,
   "metadata": {},
   "outputs": [
    {
     "data": {
      "image/png": "[encoded data removed]",
      "text/plain": [
       "<Figure size 72x72 with 1 Axes>"
      ]
     },
     "metadata": {
      "needs_background": "light"
     },
     "output_type": "display_data"
    }
   ],
   "source": [
    "plt.figure(figsize = (1,1))\n",
    "plt.imshow(npimg)\n",
    "plt.show()"
   ]
  },
  {
   "cell_type": "code",
   "execution_count": 10,
   "metadata": {},
   "outputs": [],
   "source": [
    "def imshow(img):\n",
    "    npimg = img.numpy()\n",
    "    npimg = np.transpose(npimg,(1,2,0))\n",
    "    plt.imshow(npimg)\n",
    "    plt.show()"
   ]
  },
  {
   "cell_type": "code",
   "execution_count": 11,
   "metadata": {},
   "outputs": [
    {
     "data": {
      "image/png": "[encoded data removed]",
      "text/plain": [
       "<Figure size 432x288 with 1 Axes>"
      ]
     },
     "metadata": {
      "needs_background": "light"
     },
     "output_type": "display_data"
    },
    {
     "name": "stdout",
     "output_type": "stream",
     "text": [
      "deer dog frog plane\n"
     ]
    }
   ],
   "source": [
    "imshow(torchvision.utils.make_grid(images))\n",
    "print(' '.join(classes[labels[j]] for j in range(4)))"
   ]
  },
  {
   "cell_type": "markdown",
   "metadata": {},
   "source": [
    "### Single Convolutional Layer"
   ]
  },
  {
   "cell_type": "code",
   "execution_count": 12,
   "metadata": {},
   "outputs": [],
   "source": [
    "import torch.nn as nn\n",
    "\n",
    "class FirstCNN(nn.Module):\n",
    "    def __init__(self):\n",
    "        super(FirstCNN,self).__init__()\n",
    "        self.conv1 = nn.Conv2d(3,16,3,padding = (1,1),stride = (2,2)) # padding = (1,1) , stride = (2,2) \n",
    "        # Syntax (3 input channels, 16 output channels,kernel _size = 3)\n",
    "        \n",
    "    def forward(self,x):\n",
    "        x = self.conv1(x)\n",
    "        return x\n",
    "    "
   ]
  },
  {
   "cell_type": "code",
   "execution_count": 13,
   "metadata": {},
   "outputs": [],
   "source": [
    "net = FirstCNN()"
   ]
  },
  {
   "cell_type": "code",
   "execution_count": 14,
   "metadata": {},
   "outputs": [
    {
     "data": {
      "text/plain": [
       "torch.Size([4, 16, 16, 16])"
      ]
     },
     "execution_count": 14,
     "metadata": {},
     "output_type": "execute_result"
    }
   ],
   "source": [
    "out = net(images)\n",
    "out.shape\n",
    "\n",
    "# 4 - corresponds to batch size\n",
    "# 16 - output channels\n",
    "# 30 ,30 - image size , from 32,32 to 30,30 "
   ]
  },
  {
   "cell_type": "code",
   "execution_count": 15,
   "metadata": {},
   "outputs": [
    {
     "name": "stdout",
     "output_type": "stream",
     "text": [
      "torch.Size([16, 3, 3, 3])\n",
      "torch.Size([16])\n"
     ]
    }
   ],
   "source": [
    "for param in net.parameters():\n",
    "    print(param.shape)"
   ]
  },
  {
   "cell_type": "code",
   "execution_count": 16,
   "metadata": {},
   "outputs": [
    {
     "name": "stdout",
     "output_type": "stream",
     "text": [
      "(16, 16)\n"
     ]
    }
   ],
   "source": [
    "out1 = out[0,0,:,:].detach().numpy()\n",
    "print(out1.shape)"
   ]
  },
  {
   "cell_type": "code",
   "execution_count": 17,
   "metadata": {},
   "outputs": [
    {
     "data": {
      "image/png": "[encoded data removed]",
      "text/plain": [
       "<Figure size 432x288 with 1 Axes>"
      ]
     },
     "metadata": {
      "needs_background": "light"
     },
     "output_type": "display_data"
    }
   ],
   "source": [
    "plt.imshow(out[0,0,:,:].detach().numpy())\n",
    "plt.show()"
   ]
  },
  {
   "cell_type": "markdown",
   "metadata": {},
   "source": [
    "### Deep Convolutional Network"
   ]
  },
  {
   "cell_type": "code",
   "execution_count": 18,
   "metadata": {},
   "outputs": [],
   "source": [
    "class FirstCNN_v2(nn.Module):\n",
    "    def __init__(self):\n",
    "        super(FirstCNN_v2,self).__init__()\n",
    "        self.model = nn.Sequential(\n",
    "            nn.Conv2d(3,8,3), # (N,3,32,32) -> (N,8,30,30)\n",
    "            nn.Conv2d(8,16,3) # (N,8,30,30) -> (N,16,28,28)\n",
    "        )\n",
    "        \n",
    "    def forward(self,x):\n",
    "        x = self.model(x)\n",
    "        return x"
   ]
  },
  {
   "cell_type": "code",
   "execution_count": 19,
   "metadata": {},
   "outputs": [
    {
     "data": {
      "text/plain": [
       "torch.Size([4, 16, 28, 28])"
      ]
     },
     "execution_count": 19,
     "metadata": {},
     "output_type": "execute_result"
    }
   ],
   "source": [
    "net = FirstCNN_v2()\n",
    "out = net(images)\n",
    "out.shape"
   ]
  },
  {
   "cell_type": "code",
   "execution_count": 20,
   "metadata": {},
   "outputs": [
    {
     "data": {
      "text/plain": [
       "<matplotlib.image.AxesImage at 0x18f92d8aeb8>"
      ]
     },
     "execution_count": 20,
     "metadata": {},
     "output_type": "execute_result"
    },
    {
     "data": {
      "image/png": "[encoded data removed]",
      "text/plain": [
       "<Figure size 432x288 with 1 Axes>"
      ]
     },
     "metadata": {
      "needs_background": "light"
     },
     "output_type": "display_data"
    }
   ],
   "source": [
    "plt.imshow(out[0,0,:,:].detach().numpy())"
   ]
  },
  {
   "cell_type": "code",
   "execution_count": 21,
   "metadata": {},
   "outputs": [],
   "source": [
    "class FirstCNN_v3(nn.Module):\n",
    "    def __init__(self):\n",
    "        super(FirstCNN_v3,self).__init__()\n",
    "        self.model = nn.Sequential(\n",
    "            nn.Conv2d(3,6,5),    # (N,3,32,32) -> (N,6,28,28)\n",
    "            nn.AvgPool2d(2,stride = 2),  #(N,6,28,28) -> (N , 6, 14,14)\n",
    "            nn.Conv2d(6,15,5),           #(N,6,14,14) -> (N,15,10,10)\n",
    "            nn.AvgPool2d(2,stride = 2)  #(N,15,10,10) ->(N,15,5,5)\n",
    "        )\n",
    "        \n",
    "    def forward(self,x):\n",
    "        x = self.model(x)\n",
    "        return x"
   ]
  },
  {
   "cell_type": "code",
   "execution_count": 22,
   "metadata": {},
   "outputs": [
    {
     "data": {
      "text/plain": [
       "torch.Size([4, 15, 5, 5])"
      ]
     },
     "execution_count": 22,
     "metadata": {},
     "output_type": "execute_result"
    }
   ],
   "source": [
    "net = FirstCNN_v3()\n",
    "out = net(images)\n",
    "out.shape"
   ]
  },
  {
   "cell_type": "code",
   "execution_count": 23,
   "metadata": {},
   "outputs": [
    {
     "data": {
      "text/plain": [
       "<matplotlib.image.AxesImage at 0x18f92debf28>"
      ]
     },
     "execution_count": 23,
     "metadata": {},
     "output_type": "execute_result"
    },
    {
     "data": {
      "image/png": "[encoded data removed]",
      "text/plain": [
       "<Figure size 432x288 with 1 Axes>"
      ]
     },
     "metadata": {
      "needs_background": "light"
     },
     "output_type": "display_data"
    }
   ],
   "source": [
    "plt.imshow(out[0,0,:,:].detach().numpy())"
   ]
  },
  {
   "cell_type": "markdown",
   "metadata": {},
   "source": [
    "### Defining LeNet"
   ]
  },
  {
   "cell_type": "code",
   "execution_count": 45,
   "metadata": {},
   "outputs": [],
   "source": [
    "class LeNet(nn.Module):\n",
    "    def __init__(self):\n",
    "        super(LeNet,self).__init__()\n",
    "        self.cnn_model = nn.Sequential(\n",
    "            nn.Conv2d(3,6,5),          # (N,3,32,32) -> (N,6,28,28)\n",
    "            nn.Tanh(),\n",
    "            nn.AvgPool2d(2,stride = 2), # (N,6,28,28) -> (N,6,14,14)\n",
    "            nn.Conv2d(6,16,5),          # (N,6,14,14) -> (N,16,10,10)\n",
    "            nn.Tanh(),\n",
    "            nn.AvgPool2d(2,stride = 2)  # (N,16,10,10) -> (N,16,5,5)\n",
    "        )\n",
    "        self.fc_model = nn.Sequential(\n",
    "            nn.Linear(400,120),    #(N,16x5x5) i.e (N,400) -> (N,120)\n",
    "            nn.Tanh(),             \n",
    "            nn.Linear(120,84),     #(N,120) -> (N,84)\n",
    "            nn.Tanh(),\n",
    "            nn.Linear(84,10)        #(N,84) -> (N,10)\n",
    "        )\n",
    "    def forward(self,x):\n",
    "        #print(x.shape)\n",
    "        x = self.cnn_model(x)\n",
    "        #print(x.shape)\n",
    "        x = x.view(x.size(0),-1) # Reshaping (N,16,5,5) ->(N,400)\n",
    "        x = self.fc_model(x)\n",
    "        #print(x.shape)\n",
    "        return x"
   ]
  },
  {
   "cell_type": "code",
   "execution_count": 46,
   "metadata": {},
   "outputs": [
    {
     "data": {
      "text/plain": [
       "torch.Size([4, 10])"
      ]
     },
     "execution_count": 46,
     "metadata": {},
     "output_type": "execute_result"
    }
   ],
   "source": [
    "net = LeNet()\n",
    "out = net(images)\n",
    "out.shape"
   ]
  },
  {
   "cell_type": "code",
   "execution_count": 47,
   "metadata": {},
   "outputs": [
    {
     "name": "stdout",
     "output_type": "stream",
     "text": [
      "tensor([[ 0.0248,  0.0697,  0.0235, -0.0158,  0.0521,  0.0106,  0.0374, -0.0206,\n",
      "         -0.0434, -0.0175],\n",
      "        [ 0.0379,  0.0503,  0.0232, -0.0281,  0.0597,  0.0045,  0.0246, -0.0159,\n",
      "         -0.0251, -0.0057],\n",
      "        [ 0.0287,  0.0476,  0.0192, -0.0239,  0.0663,  0.0114,  0.0174, -0.0088,\n",
      "         -0.0350, -0.0038],\n",
      "        [ 0.0159,  0.0419,  0.0210, -0.0171,  0.0722,  0.0078,  0.0280, -0.0005,\n",
      "         -0.0461, -0.0134]], grad_fn=<AddmmBackward>)\n"
     ]
    }
   ],
   "source": [
    "print(out)"
   ]
  },
  {
   "cell_type": "code",
   "execution_count": 48,
   "metadata": {},
   "outputs": [
    {
     "name": "stdout",
     "output_type": "stream",
     "text": [
      "tensor([1, 4, 4, 4])\n"
     ]
    }
   ],
   "source": [
    "max_values,pred_class = torch.max(out.data,1)\n",
    "print(pred_class)"
   ]
  },
  {
   "cell_type": "markdown",
   "metadata": {},
   "source": [
    "### Training LeNet"
   ]
  },
  {
   "cell_type": "code",
   "execution_count": 49,
   "metadata": {},
   "outputs": [
    {
     "name": "stdout",
     "output_type": "stream",
     "text": [
      "Files already downloaded and verified\n"
     ]
    }
   ],
   "source": [
    "batch_size = 128\n",
    "trainset = torchvision.datasets.CIFAR10(root = './data',train = True,download=True,transform = transforms.ToTensor())\n",
    "trainloader = torch.utils.data.DataLoader(trainset,batch_size = batch_size,shuffle=True)"
   ]
  },
  {
   "cell_type": "code",
   "execution_count": 50,
   "metadata": {},
   "outputs": [
    {
     "name": "stdout",
     "output_type": "stream",
     "text": [
      "Files already downloaded and verified\n"
     ]
    }
   ],
   "source": [
    "testset = torchvision.datasets.CIFAR10(root = './data',train = False,download=True,transform = transforms.ToTensor())\n",
    "testloader = torch.utils.data.DataLoader(testset,batch_size = batch_size,shuffle=False)"
   ]
  },
  {
   "cell_type": "code",
   "execution_count": 51,
   "metadata": {},
   "outputs": [],
   "source": [
    "def evaluation(datasetloader):\n",
    "    total,correct = 0,0\n",
    "    for data in datasetloader:\n",
    "        inputs ,labels = data\n",
    "        outputs = net(inputs)\n",
    "        _, pred = torch.max(outputs.data,1)\n",
    "        total += labels.size(0)\n",
    "        correct += (pred == labels).sum().item()\n",
    "    return 100*(correct/total)"
   ]
  },
  {
   "cell_type": "code",
   "execution_count": 52,
   "metadata": {},
   "outputs": [],
   "source": [
    "net = LeNet()"
   ]
  },
  {
   "cell_type": "code",
   "execution_count": 53,
   "metadata": {},
   "outputs": [],
   "source": [
    "import torch.optim as optim\n",
    "\n",
    "loss_fn = nn.CrossEntropyLoss()\n",
    "opt = optim.Adam(net.parameters())"
   ]
  },
  {
   "cell_type": "code",
   "execution_count": 54,
   "metadata": {
    "scrolled": false
   },
   "outputs": [
    {
     "name": "stdout",
     "output_type": "stream",
     "text": [
      "Epoch: 0/16,Test acc : 38.34, Train acc : 39.27\n",
      "Epoch: 1/16,Test acc : 43.19, Train acc : 43.77\n",
      "Epoch: 2/16,Test acc : 46.48, Train acc : 47.71\n",
      "Epoch: 3/16,Test acc : 49.40, Train acc : 50.99\n",
      "Epoch: 4/16,Test acc : 51.12, Train acc : 53.13\n",
      "Epoch: 5/16,Test acc : 52.61, Train acc : 55.19\n",
      "Epoch: 6/16,Test acc : 53.27, Train acc : 56.85\n",
      "Epoch: 7/16,Test acc : 54.16, Train acc : 58.78\n",
      "Epoch: 8/16,Test acc : 54.99, Train acc : 60.28\n",
      "Epoch: 9/16,Test acc : 54.95, Train acc : 60.79\n",
      "Epoch: 10/16,Test acc : 54.74, Train acc : 61.04\n",
      "Epoch: 11/16,Test acc : 55.03, Train acc : 62.24\n",
      "Epoch: 12/16,Test acc : 55.49, Train acc : 63.44\n",
      "Epoch: 13/16,Test acc : 55.67, Train acc : 64.10\n",
      "Epoch: 14/16,Test acc : 56.34, Train acc : 65.63\n",
      "Epoch: 15/16,Test acc : 56.14, Train acc : 66.45\n"
     ]
    },
    {
     "data": {
      "image/png": "[encoded data removed]",
      "text/plain": [
       "<Figure size 432x288 with 1 Axes>"
      ]
     },
     "metadata": {
      "needs_background": "light"
     },
     "output_type": "display_data"
    },
    {
     "name": "stdout",
     "output_type": "stream",
     "text": [
      "Wall time: 14min 15s\n"
     ]
    }
   ],
   "source": [
    "%%time\n",
    "loss_arr = []\n",
    "loss_epoch_arr = []\n",
    "max_epochs = 16\n",
    "\n",
    "for epoch in range(max_epochs):\n",
    "    for i,data in enumerate(trainloader,0):\n",
    "        \n",
    "        inputs,labels = data\n",
    "        \n",
    "        outputs = net(inputs)\n",
    "        loss = loss_fn(outputs,labels)\n",
    "        loss.backward()\n",
    "        opt.step()\n",
    "        opt.zero_grad()\n",
    "        \n",
    "        \n",
    "        loss_arr.append(loss.item())\n",
    "    loss_epoch_arr.append(loss.item())\n",
    "    \n",
    "    print('Epoch: %d/%d,Test acc : %0.2f, Train acc : %0.2f' %(epoch,max_epochs ,evaluation(testloader),evaluation(trainloader)))\n",
    "\n",
    "plt.plot(loss_epoch_arr)\n",
    "plt.show()"
   ]
  },
  {
   "cell_type": "markdown",
   "metadata": {},
   "source": [
    "### Move to GPU"
   ]
  },
  {
   "cell_type": "code",
   "execution_count": 55,
   "metadata": {},
   "outputs": [
    {
     "name": "stdout",
     "output_type": "stream",
     "text": [
      "cuda:0\n"
     ]
    }
   ],
   "source": [
    "device = torch.device('cuda:0' if torch.cuda.is_available() else 'cpu')\n",
    "print(device)"
   ]
  },
  {
   "cell_type": "code",
   "execution_count": 56,
   "metadata": {},
   "outputs": [],
   "source": [
    "def evaluation(datasetloader):\n",
    "    total,correct = 0,0\n",
    "    for data in datasetloader:\n",
    "        inputs ,labels = data\n",
    "        inputs ,labels = inputs.to(device),labels.to(device)\n",
    "        outputs = net(inputs)\n",
    "        _, pred = torch.max(outputs.data,1)\n",
    "        total += labels.size(0)\n",
    "        correct += (pred == labels).sum().item()\n",
    "    return 100*(correct/total)"
   ]
  },
  {
   "cell_type": "code",
   "execution_count": 57,
   "metadata": {},
   "outputs": [],
   "source": [
    "net = LeNet().to(device)\n",
    "loss_fn = nn.CrossEntropyLoss()\n",
    "opt = optim.Adam(net.parameters())"
   ]
  },
  {
   "cell_type": "code",
   "execution_count": 58,
   "metadata": {},
   "outputs": [
    {
     "name": "stdout",
     "output_type": "stream",
     "text": [
      "Epoch: 0/16,Test acc : 38.38, Train acc : 38.64\n",
      "Epoch: 1/16,Test acc : 41.15, Train acc : 41.25\n",
      "Epoch: 2/16,Test acc : 45.36, Train acc : 45.81\n",
      "Epoch: 3/16,Test acc : 49.49, Train acc : 50.45\n",
      "Epoch: 4/16,Test acc : 50.37, Train acc : 52.07\n",
      "Epoch: 5/16,Test acc : 52.05, Train acc : 54.61\n",
      "Epoch: 6/16,Test acc : 52.11, Train acc : 55.53\n",
      "Epoch: 7/16,Test acc : 53.29, Train acc : 56.68\n",
      "Epoch: 8/16,Test acc : 54.43, Train acc : 58.74\n",
      "Epoch: 9/16,Test acc : 54.47, Train acc : 59.40\n",
      "Epoch: 10/16,Test acc : 55.34, Train acc : 60.39\n",
      "Epoch: 11/16,Test acc : 55.76, Train acc : 61.60\n",
      "Epoch: 12/16,Test acc : 56.13, Train acc : 62.85\n",
      "Epoch: 13/16,Test acc : 55.61, Train acc : 62.86\n",
      "Epoch: 14/16,Test acc : 55.83, Train acc : 63.59\n",
      "Epoch: 15/16,Test acc : 56.40, Train acc : 64.72\n"
     ]
    },
    {
     "data": {
      "image/png": "[encoded data removed]",
      "text/plain": [
       "<Figure size 432x288 with 1 Axes>"
      ]
     },
     "metadata": {
      "needs_background": "light"
     },
     "output_type": "display_data"
    },
    {
     "name": "stdout",
     "output_type": "stream",
     "text": [
      "Wall time: 4min 38s\n"
     ]
    }
   ],
   "source": [
    "%%time\n",
    "loss_arr = []\n",
    "loss_epoch_arr = []\n",
    "max_epochs = 16\n",
    "\n",
    "for epoch in range(max_epochs):\n",
    "    for i,data in enumerate(trainloader,0):\n",
    "        \n",
    "        inputs,labels = data\n",
    "        inputs,labels = inputs.to(device),labels.to(device)\n",
    "        \n",
    "        outputs = net(inputs)\n",
    "        loss = loss_fn(outputs,labels)\n",
    "        loss.backward()\n",
    "        opt.step()\n",
    "        opt.zero_grad()\n",
    "        \n",
    "        \n",
    "        loss_arr.append(loss.item())\n",
    "    loss_epoch_arr.append(loss.item())\n",
    "    \n",
    "    print('Epoch: %d/%d,Test acc : %0.2f, Train acc : %0.2f' %(epoch,max_epochs ,evaluation(testloader),evaluation(trainloader)))\n",
    "\n",
    "plt.plot(loss_epoch_arr)\n",
    "plt.show()"
   ]
  },
  {
   "cell_type": "markdown",
   "metadata": {},
   "source": [
    "### Basic Visualisation"
   ]
  },
  {
   "cell_type": "code",
   "execution_count": 60,
   "metadata": {},
   "outputs": [
    {
     "data": {
      "image/png": "[encoded data removed]",
      "text/plain": [
       "<Figure size 432x288 with 1 Axes>"
      ]
     },
     "metadata": {
      "needs_background": "light"
     },
     "output_type": "display_data"
    }
   ],
   "source": [
    "imshow(torchvision.utils.make_grid(images))"
   ]
  },
  {
   "cell_type": "code",
   "execution_count": 61,
   "metadata": {},
   "outputs": [],
   "source": [
    "net = net.to('cpu')"
   ]
  },
  {
   "cell_type": "code",
   "execution_count": 62,
   "metadata": {},
   "outputs": [],
   "source": [
    "out = net(images)"
   ]
  },
  {
   "cell_type": "code",
   "execution_count": 63,
   "metadata": {},
   "outputs": [
    {
     "data": {
      "text/plain": [
       "torch.Size([4, 6, 28, 28])"
      ]
     },
     "execution_count": 63,
     "metadata": {},
     "output_type": "execute_result"
    }
   ],
   "source": [
    "out = net.cnn_model[0](images)\n",
    "out.shape"
   ]
  },
  {
   "cell_type": "code",
   "execution_count": 67,
   "metadata": {},
   "outputs": [
    {
     "data": {
      "image/png": "[encoded data removed]",
      "text/plain": [
       "<Figure size 144x144 with 1 Axes>"
      ]
     },
     "metadata": {
      "needs_background": "light"
     },
     "output_type": "display_data"
    }
   ],
   "source": [
    "image_id = 3\n",
    "plt.figure(figsize = (2,2))\n",
    "imshow(images[image_id,])"
   ]
  },
  {
   "cell_type": "code",
   "execution_count": 69,
   "metadata": {},
   "outputs": [
    {
     "name": "stderr",
     "output_type": "stream",
     "text": [
      "C:\\Users\\Tarun Makkar\\Anaconda3\\envs\\keras-gpu\\lib\\site-packages\\ipykernel_launcher.py:4: MatplotlibDeprecationWarning: Adding an axes using the same arguments as a previous axes currently reuses the earlier instance.  In a future version, a new instance will always be created and returned.  Meanwhile, this warning can be suppressed, and the future behavior ensured, by passing a unique label to each axes instance.\n",
      "  after removing the cwd from sys.path.\n"
     ]
    },
    {
     "data": {
      "image/png": "[encoded data removed]",
      "text/plain": [
       "<Figure size 432x432 with 6 Axes>"
      ]
     },
     "metadata": {
      "needs_background": "light"
     },
     "output_type": "display_data"
    }
   ],
   "source": [
    "plt.figure(figsize = (6,6))\n",
    "plt.subplot(321)\n",
    "for i in range(6):\n",
    "    ax1 = plt.subplot(3,2,i+1)\n",
    "    plt.imshow(out[image_id,i,:,:].detach().numpy(),cmap = 'binary')\n",
    "plt.show()"
   ]
  },
  {
   "cell_type": "code",
   "execution_count": null,
   "metadata": {},
   "outputs": [],
   "source": []
  },
  {
   "cell_type": "code",
   "execution_count": null,
   "metadata": {},
   "outputs": [],
   "source": []
  }
 ],
 "metadata": {
  "kernelspec": {
   "display_name": "Python 3.7.3 64-bit ('keras-gpu': conda)",
   "language": "python",
   "name": "python37364bitkerasgpucondac15bbfaa9e7342f1a6aaed5bedd28ed1"
  },
  "language_info": {
   "codemirror_mode": {
    "name": "ipython",
    "version": 3
   },
   "file_extension": ".py",
   "mimetype": "text/x-python",
   "name": "python",
   "nbconvert_exporter": "python",
   "pygments_lexer": "ipython3",
   "version": "3.7.3"
  }
 },
 "nbformat": 4,
 "nbformat_minor": 2
}
